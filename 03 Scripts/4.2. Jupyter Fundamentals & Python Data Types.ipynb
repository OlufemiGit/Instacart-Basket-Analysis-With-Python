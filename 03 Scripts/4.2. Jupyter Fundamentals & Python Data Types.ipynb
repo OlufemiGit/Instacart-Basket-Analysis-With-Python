{
 "cells": [
  {
   "cell_type": "markdown",
   "id": "c77edb98-34e9-4e1c-9afb-472dd7f149dc",
   "metadata": {},
   "source": [
    "#01. Importing libraries"
   ]
  },
  {
   "cell_type": "code",
   "execution_count": 1,
   "id": "a66397bb-7336-4be5-b1bb-ab6987e9a5d5",
   "metadata": {},
   "outputs": [],
   "source": [
    "# Import libraries\n",
    "import pandas as pd\n",
    "import numpy as np\n",
    "import os"
   ]
  },
  {
   "cell_type": "markdown",
   "id": "ecead241-5fb7-45db-8aba-1d3bd78061c7",
   "metadata": {},
   "source": [
    "#02. Working with Python data types"
   ]
  },
  {
   "cell_type": "code",
   "execution_count": 3,
   "id": "50980d0c-c70d-46ff-82e5-7dc013dc8404",
   "metadata": {},
   "outputs": [],
   "source": [
    "a = 50"
   ]
  },
  {
   "cell_type": "code",
   "execution_count": 5,
   "id": "434320ed-d9d3-4551-b9c4-182c87801166",
   "metadata": {},
   "outputs": [],
   "source": [
    "b =50"
   ]
  },
  {
   "cell_type": "code",
   "execution_count": 7,
   "id": "a454c74f-ce38-4fc7-9a79-da87c3e4065d",
   "metadata": {},
   "outputs": [],
   "source": [
    "result = a+b"
   ]
  },
  {
   "cell_type": "code",
   "execution_count": 9,
   "id": "4b3b6a9d-db29-49a4-9142-202f2e9bc65b",
   "metadata": {},
   "outputs": [
    {
     "name": "stdout",
     "output_type": "stream",
     "text": [
      "100\n"
     ]
    }
   ],
   "source": [
    "print(result)"
   ]
  },
  {
   "cell_type": "code",
   "execution_count": 31,
   "id": "9335664a-8792-43b6-b3c3-a3e30889e519",
   "metadata": {},
   "outputs": [],
   "source": [
    "c=200"
   ]
  },
  {
   "cell_type": "code",
   "execution_count": 33,
   "id": "fc4630c4-a9e2-4d83-bd33-d3575daeb5fd",
   "metadata": {},
   "outputs": [],
   "source": [
    "d=50"
   ]
  },
  {
   "cell_type": "code",
   "execution_count": 35,
   "id": "645aa299-a0c9-4ee9-bf58-a55651852415",
   "metadata": {},
   "outputs": [],
   "source": [
    "e=50"
   ]
  },
  {
   "cell_type": "code",
   "execution_count": 39,
   "id": "a1e61c24-8ac4-4949-99ad-f4c730a1d84a",
   "metadata": {},
   "outputs": [],
   "source": [
    "result1 = c - d - e"
   ]
  },
  {
   "cell_type": "code",
   "execution_count": 41,
   "id": "9ac14d6b-a56b-417c-8fab-4977720a2f34",
   "metadata": {},
   "outputs": [
    {
     "name": "stdout",
     "output_type": "stream",
     "text": [
      "100\n"
     ]
    }
   ],
   "source": [
    "print(result1)"
   ]
  },
  {
   "cell_type": "code",
   "execution_count": 43,
   "id": "561ea46e-7f0a-4fbc-8c74-1c5832c47f3b",
   "metadata": {},
   "outputs": [],
   "source": [
    "f = 120"
   ]
  },
  {
   "cell_type": "code",
   "execution_count": 45,
   "id": "381210c5-f139-4749-a2a3-9be8f24f19c7",
   "metadata": {},
   "outputs": [],
   "source": [
    "g = 30"
   ]
  },
  {
   "cell_type": "code",
   "execution_count": 47,
   "id": "1e9b0dfe-83d4-46c9-a01d-27e59230e922",
   "metadata": {},
   "outputs": [],
   "source": [
    "h = 10"
   ]
  },
  {
   "cell_type": "code",
   "execution_count": 49,
   "id": "254abfd3-067a-4bed-aa0d-d044cf61787e",
   "metadata": {},
   "outputs": [],
   "source": [
    "i = 40"
   ]
  },
  {
   "cell_type": "code",
   "execution_count": 59,
   "id": "a851f60f-7a06-471d-bdce-1df7f738ccf5",
   "metadata": {},
   "outputs": [],
   "source": [
    "result2 = f + g - h - i"
   ]
  },
  {
   "cell_type": "code",
   "execution_count": 61,
   "id": "62cb0e57-197c-476d-ab78-4478edc91e8f",
   "metadata": {},
   "outputs": [
    {
     "name": "stdout",
     "output_type": "stream",
     "text": [
      "100\n"
     ]
    }
   ],
   "source": [
    "print(result2)"
   ]
  },
  {
   "cell_type": "code",
   "execution_count": 63,
   "id": "8a22645b-fb08-4e13-824f-db43a425b6d7",
   "metadata": {},
   "outputs": [],
   "source": [
    "j = 10.5"
   ]
  },
  {
   "cell_type": "code",
   "execution_count": 65,
   "id": "445a7eec-df18-4475-b58a-55f3b4875bba",
   "metadata": {},
   "outputs": [],
   "source": [
    "k = 2.5"
   ]
  },
  {
   "cell_type": "code",
   "execution_count": 67,
   "id": "65ecd1b6-458c-4607-95a2-c39975cef52b",
   "metadata": {},
   "outputs": [],
   "source": [
    "result3 = j/k"
   ]
  },
  {
   "cell_type": "code",
   "execution_count": 69,
   "id": "85234104-0178-41e8-b1d1-bf26e8a4a877",
   "metadata": {},
   "outputs": [
    {
     "name": "stdout",
     "output_type": "stream",
     "text": [
      "4.2\n"
     ]
    }
   ],
   "source": [
    "print(result3)"
   ]
  },
  {
   "cell_type": "code",
   "execution_count": 71,
   "id": "804c6333-8f9e-4cc5-a095-5845bbb274fa",
   "metadata": {},
   "outputs": [],
   "source": [
    "l = 50"
   ]
  },
  {
   "cell_type": "code",
   "execution_count": 73,
   "id": "4e98b475-ec06-408a-b1b1-b018a47c080c",
   "metadata": {},
   "outputs": [],
   "source": [
    "m = 5"
   ]
  },
  {
   "cell_type": "code",
   "execution_count": 75,
   "id": "f6246ac7-b394-411a-bc71-cdba5c761a52",
   "metadata": {},
   "outputs": [],
   "source": [
    "result4 = l/m"
   ]
  },
  {
   "cell_type": "code",
   "execution_count": 77,
   "id": "19fa16b9-7214-4367-8d7b-b463bba1274e",
   "metadata": {},
   "outputs": [
    {
     "name": "stdout",
     "output_type": "stream",
     "text": [
      "10.0\n"
     ]
    }
   ],
   "source": [
    "print(result4)"
   ]
  },
  {
   "cell_type": "code",
   "execution_count": 79,
   "id": "e89576af-d1b9-46ca-abca-6ef2d234b7cc",
   "metadata": {},
   "outputs": [],
   "source": [
    "part1 = \"Py\""
   ]
  },
  {
   "cell_type": "code",
   "execution_count": 83,
   "id": "988145eb-7d3f-4655-98ee-aa3b100495da",
   "metadata": {},
   "outputs": [],
   "source": [
    "part2 = \"thon\""
   ]
  },
  {
   "cell_type": "code",
   "execution_count": 85,
   "id": "cad8a098-23f6-4f23-b07e-02b608a81873",
   "metadata": {},
   "outputs": [],
   "source": [
    "word = part1 + part2"
   ]
  },
  {
   "cell_type": "code",
   "execution_count": 87,
   "id": "6466a2be-eb4c-4013-9e9e-6445e73d5f0c",
   "metadata": {},
   "outputs": [
    {
     "name": "stdout",
     "output_type": "stream",
     "text": [
      "Python\n"
     ]
    }
   ],
   "source": [
    "print(word)"
   ]
  },
  {
   "cell_type": "code",
   "execution_count": 99,
   "id": "c242a767-fe74-49f0-bb4e-3244e3f7b060",
   "metadata": {},
   "outputs": [],
   "source": [
    "part3 = \"I love \""
   ]
  },
  {
   "cell_type": "code",
   "execution_count": 103,
   "id": "481daed1-4bf5-4fbe-b4aa-ebc44bab71d4",
   "metadata": {},
   "outputs": [],
   "source": [
    "part4 = \"coding in \" "
   ]
  },
  {
   "cell_type": "code",
   "execution_count": 101,
   "id": "f7faadc5-3790-4d9e-86f1-8da6b01907f5",
   "metadata": {},
   "outputs": [],
   "source": [
    "part5 = \"python.\""
   ]
  },
  {
   "cell_type": "code",
   "execution_count": 121,
   "id": "b049437c-def9-4ead-8613-cfd8160299cd",
   "metadata": {},
   "outputs": [],
   "source": [
    "sentence1 = part3 + part4 + part5"
   ]
  },
  {
   "cell_type": "code",
   "execution_count": 123,
   "id": "6c2ed8e7-2487-47c6-8a4a-6f93b2873d51",
   "metadata": {},
   "outputs": [
    {
     "name": "stdout",
     "output_type": "stream",
     "text": [
      "I love coding in python.\n"
     ]
    }
   ],
   "source": [
    "print(sentence1)"
   ]
  },
  {
   "cell_type": "code",
   "execution_count": 109,
   "id": "2991c762-88f9-4d49-8887-fc7e2488e90a",
   "metadata": {},
   "outputs": [],
   "source": [
    "part6 = \"Jupyter Notebooks \""
   ]
  },
  {
   "cell_type": "code",
   "execution_count": 111,
   "id": "9181c294-c7be-4eb2-81b9-1c41545d268b",
   "metadata": {},
   "outputs": [],
   "source": [
    "part7 = \"are great \""
   ]
  },
  {
   "cell_type": "code",
   "execution_count": 113,
   "id": "ecd54eb6-1cf0-4d6f-b59d-fba05f32b6f8",
   "metadata": {},
   "outputs": [],
   "source": [
    "part8 = \"for data analysts!\""
   ]
  },
  {
   "cell_type": "code",
   "execution_count": 115,
   "id": "ce7f1839-6ca4-4ba3-b0b3-2247050d72b3",
   "metadata": {},
   "outputs": [],
   "source": [
    "sentence2 = part6 + part7 + part8"
   ]
  },
  {
   "cell_type": "code",
   "execution_count": 117,
   "id": "23124ba7-7226-4689-8dd3-1ee76ba8c0c9",
   "metadata": {},
   "outputs": [
    {
     "name": "stdout",
     "output_type": "stream",
     "text": [
      "Jupyter Notebooks are great for data analysts!\n"
     ]
    }
   ],
   "source": [
    "print(sentence2)"
   ]
  },
  {
   "cell_type": "code",
   "execution_count": null,
   "id": "3a4eeec8-11bc-43b3-80e9-c1f79baaa26e",
   "metadata": {},
   "outputs": [],
   "source": []
  }
 ],
 "metadata": {
  "kernelspec": {
   "display_name": "Python [conda env:base] *",
   "language": "python",
   "name": "conda-base-py"
  },
  "language_info": {
   "codemirror_mode": {
    "name": "ipython",
    "version": 3
   },
   "file_extension": ".py",
   "mimetype": "text/x-python",
   "name": "python",
   "nbconvert_exporter": "python",
   "pygments_lexer": "ipython3",
   "version": "3.12.7"
  }
 },
 "nbformat": 4,
 "nbformat_minor": 5
}
